{
 "cells": [
  {
   "cell_type": "markdown",
   "metadata": {},
   "source": [
    "# Scrublet doublet removal analysis on the full dataset"
   ]
  },
  {
   "cell_type": "code",
   "execution_count": 2,
   "metadata": {},
   "outputs": [],
   "source": [
    "%matplotlib inline\n",
    "import scrublet as scr\n",
    "import scipy.io\n",
    "import matplotlib.pyplot as plt\n",
    "import numpy as np\n",
    "import os\n",
    "import time\n",
    "import pandas as pd\n",
    "import scanpy as sc\n",
    "import umap"
   ]
  },
  {
   "cell_type": "code",
   "execution_count": 266,
   "metadata": {},
   "outputs": [],
   "source": [
    "metadata = pd.read_csv('/mnt/2021Jan/01_MGT_2021_Samples.txt', sep = '\\t', index_col = 0)"
   ]
  },
  {
   "cell_type": "code",
   "execution_count": 268,
   "metadata": {},
   "outputs": [],
   "source": [
    "metadata = metadata[165:170]"
   ]
  },
  {
   "cell_type": "code",
   "execution_count": 269,
   "metadata": {},
   "outputs": [],
   "source": [
    "path = '/mnt/2021Jan/'\n",
    "filenames = metadata.index"
   ]
  },
  {
   "cell_type": "code",
   "execution_count": 270,
   "metadata": {},
   "outputs": [
    {
     "data": {
      "text/plain": [
       "Index(['WTDAtest7770716', 'WTDAtest7770717', 'WTDAtest7770718',\n",
       "       'WTDAtest7770719'],\n",
       "      dtype='object', name='Sanger sample ID')"
      ]
     },
     "execution_count": 270,
     "metadata": {},
     "output_type": "execute_result"
    }
   ],
   "source": [
    "filenames"
   ]
  },
  {
   "cell_type": "code",
   "execution_count": 271,
   "metadata": {},
   "outputs": [],
   "source": [
    "def applyScrubblet(sampleName, rootPath):\n",
    "    # read in matrix\n",
    "    E = scipy.io.mmread(rootPath + sampleName +'_soupx_out/' + 'matrix.mtx').T.tocsc() \n",
    "    #genes = np.array(scr.load_genes(rootPath +'outs_'+ sampleName + '/filtered_feature_bc_matrix/' + 'features.tsv.gz', delimiter='\\t', column=1))\n",
    "    barcodes = pd.read_csv(rootPath + sampleName +'_soupx_out/'+  'barcodes.tsv', delimiter='\\t', header=None)\n",
    "    #print('Counts matrix shape: {} rows, {} columns'.format(E.shape[0], E.shape[1]))\n",
    "    #print('Number of genes in gene list: {}'.format(len(genes)))\n",
    "    \n",
    "    # apply scrubblet\n",
    "    total_counts = E.sum(1).A.squeeze()\n",
    "\n",
    "    #fig, ax = plt.subplots(figsize = (10, 5))\n",
    "    #ax.hist(total_counts, bins = np.logspace(3, 5, 40))\n",
    "    #ax.set_xscale('log')\n",
    "    #ax.set_xlabel('Total counts')\n",
    "    #ax.set_ylabel('Number of cells')\n",
    "    \n",
    "    #plt.savefig(\"/mnt/2021Jan/scrublet_results/sample_\" +sampleName+ \".png\")\n",
    "    \n",
    "    #calculate doublet scores\n",
    "    scrub = scr.Scrublet(E, expected_doublet_rate=0.06)\n",
    "    doublet_scores, predicted_doublets = scrub.scrub_doublets(min_counts=2, \n",
    "                                                          min_cells=3, \n",
    "                                                          min_gene_variability_pctl=85, \n",
    "                                                          n_prin_comps=30)\n",
    "    \n",
    "    scrub.call_doublets(threshold=0.25)\n",
    "    scrub.plot_histogram();\n",
    "\n",
    "    print('Running UMAP...')\n",
    "    scrub.set_embedding('UMAP', scr.get_umap(scrub.manifold_obs_, 10, min_dist=0.3))\n",
    "    print('Done.')\n",
    "\n",
    "    #save the plots & calculations\n",
    "    #plt.savefig(\"/mnt/2021Jan/scrublet_results/UMAP_\"+sampleName +\".png\")\n",
    "        \n",
    "    res = pd.DataFrame([barcodes.iloc[:,0], doublet_scores,predicted_doublets],\n",
    "                      index=[\"barcode\", \"doublet_scores\",\"predicted_doublets\"]).T\n",
    "    res.barcode = res.barcode + \"-\" + sampleName\n",
    "    \n",
    "    res.to_csv(\"/mnt/2021Jan/scrublet_results/file_\" + sampleName +\".csv\")\n",
    "    return res"
   ]
  },
  {
   "cell_type": "code",
   "execution_count": 272,
   "metadata": {},
   "outputs": [
    {
     "name": "stdout",
     "output_type": "stream",
     "text": [
      "Preprocessing...\n",
      "Simulating doublets...\n",
      "Embedding transcriptomes using PCA...\n",
      "Calculating doublet scores...\n",
      "Automatically set threshold at doublet score = 0.33\n",
      "Detected doublet rate = 0.7%\n",
      "Estimated detectable doublet fraction = 26.5%\n",
      "Overall doublet rate:\n",
      "\tExpected   = 6.0%\n",
      "\tEstimated  = 2.7%\n",
      "Elapsed time: 1.5 seconds\n",
      "Detected doublet rate = 0.7%\n",
      "Estimated detectable doublet fraction = 28.3%\n",
      "Overall doublet rate:\n",
      "\tExpected   = 6.0%\n",
      "\tEstimated  = 2.5%\n",
      "Running UMAP...\n",
      "Done.\n",
      "Preprocessing...\n",
      "Simulating doublets...\n",
      "Embedding transcriptomes using PCA...\n",
      "Calculating doublet scores...\n",
      "Automatically set threshold at doublet score = 0.39\n",
      "Detected doublet rate = 0.2%\n",
      "Estimated detectable doublet fraction = 3.1%\n",
      "Overall doublet rate:\n",
      "\tExpected   = 6.0%\n",
      "\tEstimated  = 6.3%\n",
      "Elapsed time: 1.5 seconds\n",
      "Detected doublet rate = 1.0%\n",
      "Estimated detectable doublet fraction = 11.0%\n",
      "Overall doublet rate:\n",
      "\tExpected   = 6.0%\n",
      "\tEstimated  = 9.3%\n",
      "Running UMAP...\n",
      "Done.\n",
      "Preprocessing...\n",
      "Simulating doublets...\n",
      "Embedding transcriptomes using PCA...\n",
      "Calculating doublet scores...\n",
      "Automatically set threshold at doublet score = 0.51\n",
      "Detected doublet rate = 0.0%\n",
      "Estimated detectable doublet fraction = 0.6%\n",
      "Overall doublet rate:\n",
      "\tExpected   = 6.0%\n",
      "\tEstimated  = 0.0%\n",
      "Elapsed time: 2.1 seconds\n",
      "Detected doublet rate = 1.3%\n",
      "Estimated detectable doublet fraction = 7.1%\n",
      "Overall doublet rate:\n",
      "\tExpected   = 6.0%\n",
      "\tEstimated  = 18.3%\n",
      "Running UMAP...\n",
      "Done.\n",
      "Preprocessing...\n",
      "Simulating doublets...\n",
      "Embedding transcriptomes using PCA...\n",
      "Calculating doublet scores...\n",
      "Automatically set threshold at doublet score = 0.53\n",
      "Detected doublet rate = 0.2%\n",
      "Estimated detectable doublet fraction = 2.9%\n",
      "Overall doublet rate:\n",
      "\tExpected   = 6.0%\n",
      "\tEstimated  = 6.0%\n",
      "Elapsed time: 2.3 seconds\n",
      "Detected doublet rate = 1.3%\n",
      "Estimated detectable doublet fraction = 16.3%\n",
      "Overall doublet rate:\n",
      "\tExpected   = 6.0%\n",
      "\tEstimated  = 7.9%\n",
      "Running UMAP...\n",
      "Done.\n"
     ]
    },
    {
     "data": {
      "image/png": "[encoded data removed]",
      "text/plain": [
       "<Figure size 576x216 with 2 Axes>"
      ]
     },
     "metadata": {
      "needs_background": "light"
     },
     "output_type": "display_data"
    },
    {
     "data": {
      "image/png": "[encoded data removed]",
      "text/plain": [
       "<Figure size 576x216 with 2 Axes>"
      ]
     },
     "metadata": {
      "needs_background": "light"
     },
     "output_type": "display_data"
    },
    {
     "data": {
      "image/png": "[encoded data removed]",
      "text/plain": [
       "<Figure size 576x216 with 2 Axes>"
      ]
     },
     "metadata": {
      "needs_background": "light"
     },
     "output_type": "display_data"
    },
    {
     "data": {
      "image/png": "[encoded data removed]",
      "text/plain": [
       "<Figure size 576x216 with 2 Axes>"
      ]
     },
     "metadata": {
      "needs_background": "light"
     },
     "output_type": "display_data"
    }
   ],
   "source": [
    "all_scrub_results = [applyScrubblet(file, path) for file in filenames]"
   ]
  },
  {
   "cell_type": "markdown",
   "metadata": {},
   "source": [
    "#calculate doublet scores\n",
    "    scrub = scr.Scrublet(E, expected_doublet_rate=0.06)\n",
    "    doublet_scores, predicted_doublets = scrub.scrub_doublets(min_counts=2, \n",
    "                                                          min_cells=3, \n",
    "                                                          n_prin_comps=30)"
   ]
  },
  {
   "cell_type": "code",
   "execution_count": 273,
   "metadata": {},
   "outputs": [],
   "source": [
    "frame = pd.DataFrame()\n",
    "list_ = []\n",
    "import os\n",
    "for file in os.listdir(\"/mnt/2021Jan/scrublet_results/\"):\n",
    "    if file.endswith(\".csv\"):\n",
    "        df = pd.read_csv(os.path.join(\"/mnt/2021Jan/scrublet_results/\", file))\n",
    "        list_.append(df)\n",
    "        frame = pd.concat(list_)"
   ]
  },
  {
   "cell_type": "code",
   "execution_count": 274,
   "metadata": {},
   "outputs": [
    {
     "data": {
      "text/html": [
       "<div>\n",
       "<style scoped>\n",
       "    .dataframe tbody tr th:only-of-type {\n",
       "        vertical-align: middle;\n",
       "    }\n",
       "\n",
       "    .dataframe tbody tr th {\n",
       "        vertical-align: top;\n",
       "    }\n",
       "\n",
       "    .dataframe thead th {\n",
       "        text-align: right;\n",
       "    }\n",
       "</style>\n",
       "<table border=\"1\" class=\"dataframe\">\n",
       "  <thead>\n",
       "    <tr style=\"text-align: right;\">\n",
       "      <th></th>\n",
       "      <th>Unnamed: 0</th>\n",
       "      <th>barcode</th>\n",
       "      <th>doublet_scores</th>\n",
       "      <th>predicted_doublets</th>\n",
       "      <th>Unnamed: 0.1</th>\n",
       "    </tr>\n",
       "  </thead>\n",
       "  <tbody>\n",
       "    <tr>\n",
       "      <th>0</th>\n",
       "      <td>0</td>\n",
       "      <td>AAACCTGAGGAGCGAG-1-Human_colon_16S8123916</td>\n",
       "      <td>0.031658</td>\n",
       "      <td>False</td>\n",
       "      <td>NaN</td>\n",
       "    </tr>\n",
       "    <tr>\n",
       "      <th>1</th>\n",
       "      <td>1</td>\n",
       "      <td>AAACCTGAGGCATTGG-1-Human_colon_16S8123916</td>\n",
       "      <td>0.040000</td>\n",
       "      <td>False</td>\n",
       "      <td>NaN</td>\n",
       "    </tr>\n",
       "    <tr>\n",
       "      <th>2</th>\n",
       "      <td>2</td>\n",
       "      <td>AAACCTGAGTGGGATC-1-Human_colon_16S8123916</td>\n",
       "      <td>0.048402</td>\n",
       "      <td>False</td>\n",
       "      <td>NaN</td>\n",
       "    </tr>\n",
       "    <tr>\n",
       "      <th>3</th>\n",
       "      <td>3</td>\n",
       "      <td>AAACCTGCATGCAATC-1-Human_colon_16S8123916</td>\n",
       "      <td>0.034755</td>\n",
       "      <td>False</td>\n",
       "      <td>NaN</td>\n",
       "    </tr>\n",
       "    <tr>\n",
       "      <th>4</th>\n",
       "      <td>4</td>\n",
       "      <td>AAACCTGCATTAGCCA-1-Human_colon_16S8123916</td>\n",
       "      <td>0.097068</td>\n",
       "      <td>False</td>\n",
       "      <td>NaN</td>\n",
       "    </tr>\n",
       "    <tr>\n",
       "      <th>...</th>\n",
       "      <td>...</td>\n",
       "      <td>...</td>\n",
       "      <td>...</td>\n",
       "      <td>...</td>\n",
       "      <td>...</td>\n",
       "    </tr>\n",
       "    <tr>\n",
       "      <th>4958</th>\n",
       "      <td>4958</td>\n",
       "      <td>TTTGTCAGTTCCAACA-1-Human_colon_16S8123911</td>\n",
       "      <td>0.048865</td>\n",
       "      <td>False</td>\n",
       "      <td>NaN</td>\n",
       "    </tr>\n",
       "    <tr>\n",
       "      <th>4959</th>\n",
       "      <td>4959</td>\n",
       "      <td>TTTGTCAGTTGGGACA-1-Human_colon_16S8123911</td>\n",
       "      <td>0.090435</td>\n",
       "      <td>False</td>\n",
       "      <td>NaN</td>\n",
       "    </tr>\n",
       "    <tr>\n",
       "      <th>4960</th>\n",
       "      <td>4960</td>\n",
       "      <td>TTTGTCATCATCACCC-1-Human_colon_16S8123911</td>\n",
       "      <td>0.109772</td>\n",
       "      <td>False</td>\n",
       "      <td>NaN</td>\n",
       "    </tr>\n",
       "    <tr>\n",
       "      <th>4961</th>\n",
       "      <td>4961</td>\n",
       "      <td>TTTGTCATCCCAAGAT-1-Human_colon_16S8123911</td>\n",
       "      <td>0.174922</td>\n",
       "      <td>False</td>\n",
       "      <td>NaN</td>\n",
       "    </tr>\n",
       "    <tr>\n",
       "      <th>4962</th>\n",
       "      <td>4962</td>\n",
       "      <td>TTTGTCATCCTGCAGG-1-Human_colon_16S8123911</td>\n",
       "      <td>0.121906</td>\n",
       "      <td>False</td>\n",
       "      <td>NaN</td>\n",
       "    </tr>\n",
       "  </tbody>\n",
       "</table>\n",
       "<p>2203205 rows × 5 columns</p>\n",
       "</div>"
      ],
      "text/plain": [
       "      Unnamed: 0                                    barcode  doublet_scores  \\\n",
       "0              0  AAACCTGAGGAGCGAG-1-Human_colon_16S8123916        0.031658   \n",
       "1              1  AAACCTGAGGCATTGG-1-Human_colon_16S8123916        0.040000   \n",
       "2              2  AAACCTGAGTGGGATC-1-Human_colon_16S8123916        0.048402   \n",
       "3              3  AAACCTGCATGCAATC-1-Human_colon_16S8123916        0.034755   \n",
       "4              4  AAACCTGCATTAGCCA-1-Human_colon_16S8123916        0.097068   \n",
       "...          ...                                        ...             ...   \n",
       "4958        4958  TTTGTCAGTTCCAACA-1-Human_colon_16S8123911        0.048865   \n",
       "4959        4959  TTTGTCAGTTGGGACA-1-Human_colon_16S8123911        0.090435   \n",
       "4960        4960  TTTGTCATCATCACCC-1-Human_colon_16S8123911        0.109772   \n",
       "4961        4961  TTTGTCATCCCAAGAT-1-Human_colon_16S8123911        0.174922   \n",
       "4962        4962  TTTGTCATCCTGCAGG-1-Human_colon_16S8123911        0.121906   \n",
       "\n",
       "      predicted_doublets  Unnamed: 0.1  \n",
       "0                  False           NaN  \n",
       "1                  False           NaN  \n",
       "2                  False           NaN  \n",
       "3                  False           NaN  \n",
       "4                  False           NaN  \n",
       "...                  ...           ...  \n",
       "4958               False           NaN  \n",
       "4959               False           NaN  \n",
       "4960               False           NaN  \n",
       "4961               False           NaN  \n",
       "4962               False           NaN  \n",
       "\n",
       "[2203205 rows x 5 columns]"
      ]
     },
     "execution_count": 274,
     "metadata": {},
     "output_type": "execute_result"
    }
   ],
   "source": [
    "frame"
   ]
  },
  {
   "cell_type": "code",
   "execution_count": 275,
   "metadata": {},
   "outputs": [],
   "source": [
    "frame.to_csv(\"/mnt/2021Jan/scrublet_results/all_scores_together02.csv\")"
   ]
  },
  {
   "cell_type": "markdown",
   "metadata": {},
   "source": [
    "### all_scores_together contain the cell barcodes and the doublet value. load it into the adata and check doublet score distribution on the final integrated umap. Default threshold used for the filtering of possible doublets"
   ]
  }
 ],
 "metadata": {
  "kernelspec": {
   "display_name": "Python 3",
   "language": "python",
   "name": "python3"
  },
  "language_info": {
   "codemirror_mode": {
    "name": "ipython",
    "version": 3
   },
   "file_extension": ".py",
   "mimetype": "text/x-python",
   "name": "python",
   "nbconvert_exporter": "python",
   "pygments_lexer": "ipython3",
   "version": "3.6.9"
  }
 },
 "nbformat": 4,
 "nbformat_minor": 2
}
